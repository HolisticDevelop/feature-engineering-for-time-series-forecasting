{
 "cells": [
  {
   "cell_type": "markdown",
   "id": "20d1844d-56a1-4d97-9098-04cd38614402",
   "metadata": {},
   "source": [
    "# Recursive forecasting example"
   ]
  },
  {
   "cell_type": "markdown",
   "id": "6c7e22b9-366f-4754-ba9c-c642f5b6f291",
   "metadata": {},
   "source": [
    "In this notebook we will show how to use trend features in a recursive forecasting workflow where we also have features built from the target (e.g., lag & window features)."
   ]
  },
  {
   "cell_type": "markdown",
   "id": "51592ed5-f49f-4973-85c2-360b7cc4fdbc",
   "metadata": {},
   "source": [
    "## Data Set Synopsis\n",
    "\n",
    "We will use the Victoria electricity demand dataset found here: \n",
    "https://github.com/tidyverts/tsibbledata/tree/master/data-raw/vic_elec. This dataset is used in the [original MSTL paper [1]](https://arxiv.org/pdf/2107.13462.pdf). It is the total electricity demand at a half hourly granularity for the state of Victora in Australia from 2002 to the start of 2015. A more detailed description of the dataset can be found [here](https://rdrr.io/cran/tsibbledata/man/vic_elec.html). \n",
    "\n",
    "We resampled the dataset to hourly in the 4th data preparation notebook in the \"01-Create-Datasets\" folder in this repo. For instructions on how to download, prepare, and store the dataset, refer to notebook number 4, in the folder \"01-Create-Datasets\" from this repo.\n",
    "\n",
    "## References\n",
    "[1] [K. Bandura, R.J. Hyndman, and C. Bergmeir (2021)\n",
    "    MSTL: A Seasonal-Trend Decomposition Algorithm for Time Series with Multiple\n",
    "    Seasonal Patterns. arXiv preprint arXiv:2107.13462.](https://arxiv.org/pdf/2107.13462.pdf)"
   ]
  },
  {
   "cell_type": "code",
   "execution_count": 2,
   "id": "9a86e7d9-212c-4d82-b896-20a4e078c336",
   "metadata": {},
   "outputs": [],
   "source": [
    "import datetime\n",
    "\n",
    "import numpy as np\n",
    "import pandas as pd\n",
    "import matplotlib.pyplot as plt\n",
    "\n",
    "import seaborn as sns\n",
    "\n",
    "sns.set_context(\"talk\")"
   ]
  },
  {
   "cell_type": "markdown",
   "id": "c51d42e9-8edd-416d-8ac1-9a77792a9ed8",
   "metadata": {},
   "source": [
    "# Data set synopsis"
   ]
  },
  {
   "cell_type": "markdown",
   "id": "6e964ccb-f3fd-4e88-a08a-b82e6fc56074",
   "metadata": {},
   "source": [
    "The air passengers dataset is the monthly totals of international airline passengers, from 1949 to 1960, in units of 1000s. \n",
    "\n",
    "For instructions on how to download, prepare, and store the dataset, refer to notebook number 5, in the folder \"01-Create-Datasets\" from this repo."
   ]
  },
  {
   "cell_type": "code",
   "execution_count": 24,
   "id": "0b41fdf4-7f04-4fa6-ae61-5831d3b36473",
   "metadata": {},
   "outputs": [],
   "source": [
    "data = pd.read_csv(\n",
    "    \"../Datasets/victoria_electricity_demand.csv\",\n",
    "    parse_dates=[\"date_time\"],\n",
    "    index_col=[\"date_time\"],\n",
    ")"
   ]
  },
  {
   "cell_type": "code",
   "execution_count": 25,
   "id": "de0193f7-3a51-4805-9635-ba1fc5ce5b63",
   "metadata": {},
   "outputs": [
    {
     "data": {
      "text/plain": [
       "(115368, 3)"
      ]
     },
     "execution_count": 25,
     "metadata": {},
     "output_type": "execute_result"
    }
   ],
   "source": [
    "data.shape"
   ]
  },
  {
   "cell_type": "code",
   "execution_count": 26,
   "id": "6fb2f968-7d33-4dc9-874d-1098b60ba3ea",
   "metadata": {},
   "outputs": [
    {
     "data": {
      "text/html": [
       "<div>\n",
       "<style scoped>\n",
       "    .dataframe tbody tr th:only-of-type {\n",
       "        vertical-align: middle;\n",
       "    }\n",
       "\n",
       "    .dataframe tbody tr th {\n",
       "        vertical-align: top;\n",
       "    }\n",
       "\n",
       "    .dataframe thead th {\n",
       "        text-align: right;\n",
       "    }\n",
       "</style>\n",
       "<table border=\"1\" class=\"dataframe\">\n",
       "  <thead>\n",
       "    <tr style=\"text-align: right;\">\n",
       "      <th></th>\n",
       "      <th>demand</th>\n",
       "      <th>temperature</th>\n",
       "      <th>is_holiday</th>\n",
       "    </tr>\n",
       "    <tr>\n",
       "      <th>date_time</th>\n",
       "      <th></th>\n",
       "      <th></th>\n",
       "      <th></th>\n",
       "    </tr>\n",
       "  </thead>\n",
       "  <tbody>\n",
       "    <tr>\n",
       "      <th>2002-01-01 00:00:00</th>\n",
       "      <td>6919.366092</td>\n",
       "      <td>32.6</td>\n",
       "      <td>1</td>\n",
       "    </tr>\n",
       "    <tr>\n",
       "      <th>2002-01-01 01:00:00</th>\n",
       "      <td>7165.974188</td>\n",
       "      <td>32.6</td>\n",
       "      <td>1</td>\n",
       "    </tr>\n",
       "    <tr>\n",
       "      <th>2002-01-01 02:00:00</th>\n",
       "      <td>6406.542994</td>\n",
       "      <td>32.6</td>\n",
       "      <td>1</td>\n",
       "    </tr>\n",
       "    <tr>\n",
       "      <th>2002-01-01 03:00:00</th>\n",
       "      <td>5815.537828</td>\n",
       "      <td>32.6</td>\n",
       "      <td>1</td>\n",
       "    </tr>\n",
       "    <tr>\n",
       "      <th>2002-01-01 04:00:00</th>\n",
       "      <td>5497.732922</td>\n",
       "      <td>32.6</td>\n",
       "      <td>1</td>\n",
       "    </tr>\n",
       "  </tbody>\n",
       "</table>\n",
       "</div>"
      ],
      "text/plain": [
       "                          demand  temperature  is_holiday\n",
       "date_time                                                \n",
       "2002-01-01 00:00:00  6919.366092         32.6           1\n",
       "2002-01-01 01:00:00  7165.974188         32.6           1\n",
       "2002-01-01 02:00:00  6406.542994         32.6           1\n",
       "2002-01-01 03:00:00  5815.537828         32.6           1\n",
       "2002-01-01 04:00:00  5497.732922         32.6           1"
      ]
     },
     "execution_count": 26,
     "metadata": {},
     "output_type": "execute_result"
    }
   ],
   "source": [
    "data.head()"
   ]
  },
  {
   "cell_type": "markdown",
   "id": "102250f8-18f8-4504-b6ad-1d416b16d2a6",
   "metadata": {},
   "source": [
    "The dataset is very large, feel free to use more historical data if you're computer can handle it!"
   ]
  },
  {
   "cell_type": "code",
   "execution_count": 27,
   "id": "fddce23c-e96d-4c25-9bbe-9614df037bbf",
   "metadata": {},
   "outputs": [],
   "source": [
    "# Filter data to include 20120 onwards\n",
    "data = data[data.index > \"2012-01-01\"]"
   ]
  },
  {
   "cell_type": "markdown",
   "id": "ea3cc441-df77-439b-a88d-e74c334635c3",
   "metadata": {},
   "source": [
    "## Plot the data"
   ]
  },
  {
   "cell_type": "code",
   "execution_count": 28,
   "id": "e096e012-faba-477d-b0b3-6d2a2aac6407",
   "metadata": {},
   "outputs": [
    {
     "data": {
      "image/png": "[encoded data removed]",
      "text/plain": [
       "<Figure size 1440x720 with 1 Axes>"
      ]
     },
     "metadata": {
      "needs_background": "light"
     },
     "output_type": "display_data"
    }
   ],
   "source": [
    "fig, ax = plt.subplots(figsize=[10, 5])\n",
    "data.plot(y=\"demand\", figsize=[20, 10], legend=False, ax=ax)\n",
    "ax.set_ylabel(\"Demand (MW)\")\n",
    "ax.set_xlabel(\"Time\")\n",
    "ax.set_title(\"Electricity demand in Victoria, Australia\")\n",
    "plt.tight_layout()"
   ]
  },
  {
   "cell_type": "markdown",
   "id": "9d20fba2-1d7b-472c-a73a-d67e55173bb7",
   "metadata": {},
   "source": [
    "# Let's build some forecasts!"
   ]
  },
  {
   "cell_type": "markdown",
   "id": "5e835157-d0e9-4571-81dc-6fa818ffb032",
   "metadata": {},
   "source": [
    "Let's build a recursive forecast and see how our trend feature can help!"
   ]
  },
  {
   "cell_type": "code",
   "execution_count": 29,
   "id": "88b07c6a-983a-4205-83ad-2cf1f841c02b",
   "metadata": {},
   "outputs": [],
   "source": [
    "from sklearn.linear_model import LinearRegression, Ridge, Lasso\n",
    "from sklearn.tree import DecisionTreeRegressor\n",
    "from sklearn.ensemble import HistGradientBoostingRegressor"
   ]
  },
  {
   "cell_type": "code",
   "execution_count": 31,
   "id": "130d5c18-2870-4a1a-89af-c09bdff6b775",
   "metadata": {},
   "outputs": [
    {
     "data": {
      "text/html": [
       "<div>\n",
       "<style scoped>\n",
       "    .dataframe tbody tr th:only-of-type {\n",
       "        vertical-align: middle;\n",
       "    }\n",
       "\n",
       "    .dataframe tbody tr th {\n",
       "        vertical-align: top;\n",
       "    }\n",
       "\n",
       "    .dataframe thead th {\n",
       "        text-align: right;\n",
       "    }\n",
       "</style>\n",
       "<table border=\"1\" class=\"dataframe\">\n",
       "  <thead>\n",
       "    <tr style=\"text-align: right;\">\n",
       "      <th></th>\n",
       "      <th>demand</th>\n",
       "      <th>temperature</th>\n",
       "      <th>is_holiday</th>\n",
       "    </tr>\n",
       "    <tr>\n",
       "      <th>date_time</th>\n",
       "      <th></th>\n",
       "      <th></th>\n",
       "      <th></th>\n",
       "    </tr>\n",
       "  </thead>\n",
       "  <tbody>\n",
       "    <tr>\n",
       "      <th>2012-01-01 01:00</th>\n",
       "      <td>7901.826990</td>\n",
       "      <td>20.325</td>\n",
       "      <td>1</td>\n",
       "    </tr>\n",
       "    <tr>\n",
       "      <th>2012-01-01 02:00</th>\n",
       "      <td>7255.721350</td>\n",
       "      <td>19.850</td>\n",
       "      <td>1</td>\n",
       "    </tr>\n",
       "    <tr>\n",
       "      <th>2012-01-01 03:00</th>\n",
       "      <td>6792.503352</td>\n",
       "      <td>19.025</td>\n",
       "      <td>1</td>\n",
       "    </tr>\n",
       "    <tr>\n",
       "      <th>2012-01-01 04:00</th>\n",
       "      <td>6635.984460</td>\n",
       "      <td>18.725</td>\n",
       "      <td>1</td>\n",
       "    </tr>\n",
       "    <tr>\n",
       "      <th>2012-01-01 05:00</th>\n",
       "      <td>6548.104464</td>\n",
       "      <td>18.675</td>\n",
       "      <td>1</td>\n",
       "    </tr>\n",
       "  </tbody>\n",
       "</table>\n",
       "</div>"
      ],
      "text/plain": [
       "                       demand  temperature  is_holiday\n",
       "date_time                                             \n",
       "2012-01-01 01:00  7901.826990       20.325           1\n",
       "2012-01-01 02:00  7255.721350       19.850           1\n",
       "2012-01-01 03:00  6792.503352       19.025           1\n",
       "2012-01-01 04:00  6635.984460       18.725           1\n",
       "2012-01-01 05:00  6548.104464       18.675           1"
      ]
     },
     "execution_count": 31,
     "metadata": {},
     "output_type": "execute_result"
    }
   ],
   "source": [
    "# The data is monthly, let's work with pandas Period.\n",
    "df = data.copy()\n",
    "df.index = df.index.to_period(\"H\")\n",
    "df.head()"
   ]
  },
  {
   "cell_type": "code",
   "execution_count": 32,
   "id": "b07afae7-754f-43c7-ba16-ffd13a12b932",
   "metadata": {},
   "outputs": [
    {
     "data": {
      "text/plain": [
       "demand         False\n",
       "temperature    False\n",
       "is_holiday     False\n",
       "dtype: bool"
      ]
     },
     "execution_count": 32,
     "metadata": {},
     "output_type": "execute_result"
    }
   ],
   "source": [
    "# Sanity check\n",
    "df.isnull().any()"
   ]
  },
  {
   "cell_type": "markdown",
   "id": "c5225218-d481-4152-9340-0719339493dc",
   "metadata": {},
   "source": [
    "## Lag & window features"
   ]
  },
  {
   "cell_type": "code",
   "execution_count": 39,
   "id": "c232d46f-29d5-4d5d-9d2f-8a4c110c1e92",
   "metadata": {},
   "outputs": [],
   "source": [
    "from sktime.transformations.series.summarize import WindowSummarizer"
   ]
  },
  {
   "cell_type": "code",
   "execution_count": 46,
   "id": "9729a6bd-6fe7-40d1-85aa-a7d3499c0d79",
   "metadata": {},
   "outputs": [],
   "source": [
    "# Features computed from the target.\n",
    "# Compute lag and window features.\n",
    "lag_window_transformer = WindowSummarizer(\n",
    "    lag_feature={\n",
    "        \"lag\": [1, 24, 24*7, 24*365],  # Lag features.\n",
    "        \"mean\": [[1, 24], [1, 24*7], [1, 24*31]]  # [[lag, window size]]\n",
    "    },\n",
    "    target_cols=[\"demand\"],\n",
    "    truncate=\"bfill\", # Backfill missing values from lagging and windowing.\n",
    "    )"
   ]
  },
  {
   "cell_type": "code",
   "execution_count": 53,
   "id": "ae0d4ee5-fc4e-495e-ab6b-ad5f3f2ae8aa",
   "metadata": {},
   "outputs": [
    {
     "data": {
      "text/html": [
       "<div>\n",
       "<style scoped>\n",
       "    .dataframe tbody tr th:only-of-type {\n",
       "        vertical-align: middle;\n",
       "    }\n",
       "\n",
       "    .dataframe tbody tr th {\n",
       "        vertical-align: top;\n",
       "    }\n",
       "\n",
       "    .dataframe thead th {\n",
       "        text-align: right;\n",
       "    }\n",
       "</style>\n",
       "<table border=\"1\" class=\"dataframe\">\n",
       "  <thead>\n",
       "    <tr style=\"text-align: right;\">\n",
       "      <th></th>\n",
       "      <th>demand_lag_1</th>\n",
       "      <th>demand_lag_24</th>\n",
       "      <th>demand_lag_168</th>\n",
       "      <th>demand_lag_8760</th>\n",
       "      <th>demand_mean_1_24</th>\n",
       "      <th>demand_mean_1_168</th>\n",
       "      <th>demand_mean_1_744</th>\n",
       "    </tr>\n",
       "    <tr>\n",
       "      <th>date_time</th>\n",
       "      <th></th>\n",
       "      <th></th>\n",
       "      <th></th>\n",
       "      <th></th>\n",
       "      <th></th>\n",
       "      <th></th>\n",
       "      <th></th>\n",
       "    </tr>\n",
       "  </thead>\n",
       "  <tbody>\n",
       "    <tr>\n",
       "      <th>2012-01-01 01:00</th>\n",
       "      <td>7901.826990</td>\n",
       "      <td>7901.826990</td>\n",
       "      <td>7901.826990</td>\n",
       "      <td>7901.826990</td>\n",
       "      <td>9262.456202</td>\n",
       "      <td>9483.017597</td>\n",
       "      <td>9732.308143</td>\n",
       "    </tr>\n",
       "    <tr>\n",
       "      <th>2012-01-01 02:00</th>\n",
       "      <td>7901.826990</td>\n",
       "      <td>7901.826990</td>\n",
       "      <td>7901.826990</td>\n",
       "      <td>7901.826990</td>\n",
       "      <td>9262.456202</td>\n",
       "      <td>9483.017597</td>\n",
       "      <td>9732.308143</td>\n",
       "    </tr>\n",
       "    <tr>\n",
       "      <th>2012-01-01 03:00</th>\n",
       "      <td>7255.721350</td>\n",
       "      <td>7901.826990</td>\n",
       "      <td>7901.826990</td>\n",
       "      <td>7901.826990</td>\n",
       "      <td>9262.456202</td>\n",
       "      <td>9483.017597</td>\n",
       "      <td>9732.308143</td>\n",
       "    </tr>\n",
       "    <tr>\n",
       "      <th>2012-01-01 04:00</th>\n",
       "      <td>6792.503352</td>\n",
       "      <td>7901.826990</td>\n",
       "      <td>7901.826990</td>\n",
       "      <td>7901.826990</td>\n",
       "      <td>9262.456202</td>\n",
       "      <td>9483.017597</td>\n",
       "      <td>9732.308143</td>\n",
       "    </tr>\n",
       "    <tr>\n",
       "      <th>2012-01-01 05:00</th>\n",
       "      <td>6635.984460</td>\n",
       "      <td>7901.826990</td>\n",
       "      <td>7901.826990</td>\n",
       "      <td>7901.826990</td>\n",
       "      <td>9262.456202</td>\n",
       "      <td>9483.017597</td>\n",
       "      <td>9732.308143</td>\n",
       "    </tr>\n",
       "    <tr>\n",
       "      <th>...</th>\n",
       "      <td>...</td>\n",
       "      <td>...</td>\n",
       "      <td>...</td>\n",
       "      <td>...</td>\n",
       "      <td>...</td>\n",
       "      <td>...</td>\n",
       "      <td>...</td>\n",
       "    </tr>\n",
       "    <tr>\n",
       "      <th>2015-02-28 19:00</th>\n",
       "      <td>9979.909902</td>\n",
       "      <td>9980.108798</td>\n",
       "      <td>12259.011746</td>\n",
       "      <td>9481.092844</td>\n",
       "      <td>8802.565712</td>\n",
       "      <td>9670.463454</td>\n",
       "      <td>9534.348213</td>\n",
       "    </tr>\n",
       "    <tr>\n",
       "      <th>2015-02-28 20:00</th>\n",
       "      <td>9596.777060</td>\n",
       "      <td>9411.874558</td>\n",
       "      <td>11671.738690</td>\n",
       "      <td>9066.281590</td>\n",
       "      <td>8786.593557</td>\n",
       "      <td>9654.616819</td>\n",
       "      <td>9534.857244</td>\n",
       "    </tr>\n",
       "    <tr>\n",
       "      <th>2015-02-28 21:00</th>\n",
       "      <td>8883.230296</td>\n",
       "      <td>8653.510960</td>\n",
       "      <td>10657.184852</td>\n",
       "      <td>8322.859798</td>\n",
       "      <td>8764.566712</td>\n",
       "      <td>9638.018555</td>\n",
       "      <td>9534.319389</td>\n",
       "    </tr>\n",
       "    <tr>\n",
       "      <th>2015-02-28 22:00</th>\n",
       "      <td>8320.260550</td>\n",
       "      <td>8256.683092</td>\n",
       "      <td>9860.784798</td>\n",
       "      <td>8009.067302</td>\n",
       "      <td>8750.681279</td>\n",
       "      <td>9624.108291</td>\n",
       "      <td>9534.063249</td>\n",
       "    </tr>\n",
       "    <tr>\n",
       "      <th>2015-02-28 23:00</th>\n",
       "      <td>8110.055916</td>\n",
       "      <td>8716.498334</td>\n",
       "      <td>9921.712212</td>\n",
       "      <td>8633.392192</td>\n",
       "      <td>8744.571813</td>\n",
       "      <td>9613.687286</td>\n",
       "      <td>9534.180569</td>\n",
       "    </tr>\n",
       "  </tbody>\n",
       "</table>\n",
       "<p>27719 rows × 7 columns</p>\n",
       "</div>"
      ],
      "text/plain": [
       "                  demand_lag_1  demand_lag_24  demand_lag_168  \\\n",
       "date_time                                                       \n",
       "2012-01-01 01:00   7901.826990    7901.826990     7901.826990   \n",
       "2012-01-01 02:00   7901.826990    7901.826990     7901.826990   \n",
       "2012-01-01 03:00   7255.721350    7901.826990     7901.826990   \n",
       "2012-01-01 04:00   6792.503352    7901.826990     7901.826990   \n",
       "2012-01-01 05:00   6635.984460    7901.826990     7901.826990   \n",
       "...                        ...            ...             ...   \n",
       "2015-02-28 19:00   9979.909902    9980.108798    12259.011746   \n",
       "2015-02-28 20:00   9596.777060    9411.874558    11671.738690   \n",
       "2015-02-28 21:00   8883.230296    8653.510960    10657.184852   \n",
       "2015-02-28 22:00   8320.260550    8256.683092     9860.784798   \n",
       "2015-02-28 23:00   8110.055916    8716.498334     9921.712212   \n",
       "\n",
       "                  demand_lag_8760  demand_mean_1_24  demand_mean_1_168  \\\n",
       "date_time                                                                \n",
       "2012-01-01 01:00      7901.826990       9262.456202        9483.017597   \n",
       "2012-01-01 02:00      7901.826990       9262.456202        9483.017597   \n",
       "2012-01-01 03:00      7901.826990       9262.456202        9483.017597   \n",
       "2012-01-01 04:00      7901.826990       9262.456202        9483.017597   \n",
       "2012-01-01 05:00      7901.826990       9262.456202        9483.017597   \n",
       "...                           ...               ...                ...   \n",
       "2015-02-28 19:00      9481.092844       8802.565712        9670.463454   \n",
       "2015-02-28 20:00      9066.281590       8786.593557        9654.616819   \n",
       "2015-02-28 21:00      8322.859798       8764.566712        9638.018555   \n",
       "2015-02-28 22:00      8009.067302       8750.681279        9624.108291   \n",
       "2015-02-28 23:00      8633.392192       8744.571813        9613.687286   \n",
       "\n",
       "                  demand_mean_1_744  \n",
       "date_time                            \n",
       "2012-01-01 01:00        9732.308143  \n",
       "2012-01-01 02:00        9732.308143  \n",
       "2012-01-01 03:00        9732.308143  \n",
       "2012-01-01 04:00        9732.308143  \n",
       "2012-01-01 05:00        9732.308143  \n",
       "...                             ...  \n",
       "2015-02-28 19:00        9534.348213  \n",
       "2015-02-28 20:00        9534.857244  \n",
       "2015-02-28 21:00        9534.319389  \n",
       "2015-02-28 22:00        9534.063249  \n",
       "2015-02-28 23:00        9534.180569  \n",
       "\n",
       "[27719 rows x 7 columns]"
      ]
     },
     "execution_count": 53,
     "metadata": {},
     "output_type": "execute_result"
    }
   ],
   "source": [
    "lag_window_transformer.fit_transform(df[\"demand\"])"
   ]
  },
  {
   "cell_type": "markdown",
   "id": "f9c801c5-0d47-4031-9dd9-5f30ec469ed3",
   "metadata": {},
   "source": [
    "## Trend features"
   ]
  },
  {
   "cell_type": "code",
   "execution_count": 48,
   "id": "c6f2a9a9-80ac-4cbc-961e-f30a9ff32867",
   "metadata": {},
   "outputs": [],
   "source": [
    "from sktime.transformations.series.time_since import TimeSince"
   ]
  },
  {
   "cell_type": "markdown",
   "id": "3dac1165-9d17-4648-b7ed-927ed660de3d",
   "metadata": {},
   "source": [
    "Let's consider only the time feature to capture the trend."
   ]
  },
  {
   "cell_type": "code",
   "execution_count": 50,
   "id": "3eb59ff9-4c53-4f12-9f56-4232a5c8fb6d",
   "metadata": {},
   "outputs": [
    {
     "data": {
      "text/html": [
       "<div>\n",
       "<style scoped>\n",
       "    .dataframe tbody tr th:only-of-type {\n",
       "        vertical-align: middle;\n",
       "    }\n",
       "\n",
       "    .dataframe tbody tr th {\n",
       "        vertical-align: top;\n",
       "    }\n",
       "\n",
       "    .dataframe thead th {\n",
       "        text-align: right;\n",
       "    }\n",
       "</style>\n",
       "<table border=\"1\" class=\"dataframe\">\n",
       "  <thead>\n",
       "    <tr style=\"text-align: right;\">\n",
       "      <th></th>\n",
       "      <th>time_since_2012-01-01 01:00</th>\n",
       "    </tr>\n",
       "    <tr>\n",
       "      <th>date_time</th>\n",
       "      <th></th>\n",
       "    </tr>\n",
       "  </thead>\n",
       "  <tbody>\n",
       "    <tr>\n",
       "      <th>2012-01-01 01:00</th>\n",
       "      <td>0</td>\n",
       "    </tr>\n",
       "    <tr>\n",
       "      <th>2012-01-01 02:00</th>\n",
       "      <td>1</td>\n",
       "    </tr>\n",
       "    <tr>\n",
       "      <th>2012-01-01 03:00</th>\n",
       "      <td>2</td>\n",
       "    </tr>\n",
       "    <tr>\n",
       "      <th>2012-01-01 04:00</th>\n",
       "      <td>3</td>\n",
       "    </tr>\n",
       "    <tr>\n",
       "      <th>2012-01-01 05:00</th>\n",
       "      <td>4</td>\n",
       "    </tr>\n",
       "  </tbody>\n",
       "</table>\n",
       "</div>"
      ],
      "text/plain": [
       "                  time_since_2012-01-01 01:00\n",
       "date_time                                    \n",
       "2012-01-01 01:00                            0\n",
       "2012-01-01 02:00                            1\n",
       "2012-01-01 03:00                            2\n",
       "2012-01-01 04:00                            3\n",
       "2012-01-01 05:00                            4"
      ]
     },
     "execution_count": 50,
     "metadata": {},
     "output_type": "execute_result"
    }
   ],
   "source": [
    "time_since_transformer = TimeSince()\n",
    "time_since_transformer.fit_transform(df.head())"
   ]
  },
  {
   "cell_type": "markdown",
   "id": "fda69300-bfd3-442b-a618-c5ff73f033b7",
   "metadata": {},
   "source": [
    "## Datetime features"
   ]
  },
  {
   "cell_type": "code",
   "execution_count": 16,
   "id": "c17d9d30-e9ca-4ae0-a2bf-1538e9d81ba5",
   "metadata": {},
   "outputs": [],
   "source": [
    "from sktime.transformations.series.date import DateTimeFeatures"
   ]
  },
  {
   "cell_type": "code",
   "execution_count": 54,
   "id": "5050405c-d6c0-4922-a5f4-bb9a218de9c2",
   "metadata": {},
   "outputs": [
    {
     "data": {
      "text/html": [
       "<div>\n",
       "<style scoped>\n",
       "    .dataframe tbody tr th:only-of-type {\n",
       "        vertical-align: middle;\n",
       "    }\n",
       "\n",
       "    .dataframe tbody tr th {\n",
       "        vertical-align: top;\n",
       "    }\n",
       "\n",
       "    .dataframe thead th {\n",
       "        text-align: right;\n",
       "    }\n",
       "</style>\n",
       "<table border=\"1\" class=\"dataframe\">\n",
       "  <thead>\n",
       "    <tr style=\"text-align: right;\">\n",
       "      <th></th>\n",
       "      <th>demand</th>\n",
       "      <th>temperature</th>\n",
       "      <th>is_holiday</th>\n",
       "      <th>hour_of_day</th>\n",
       "      <th>month_of_year</th>\n",
       "      <th>day_of_week</th>\n",
       "    </tr>\n",
       "    <tr>\n",
       "      <th>date_time</th>\n",
       "      <th></th>\n",
       "      <th></th>\n",
       "      <th></th>\n",
       "      <th></th>\n",
       "      <th></th>\n",
       "      <th></th>\n",
       "    </tr>\n",
       "  </thead>\n",
       "  <tbody>\n",
       "    <tr>\n",
       "      <th>2012-01-01 01:00</th>\n",
       "      <td>7901.826990</td>\n",
       "      <td>20.325</td>\n",
       "      <td>1</td>\n",
       "      <td>1</td>\n",
       "      <td>1</td>\n",
       "      <td>6</td>\n",
       "    </tr>\n",
       "    <tr>\n",
       "      <th>2012-01-01 02:00</th>\n",
       "      <td>7255.721350</td>\n",
       "      <td>19.850</td>\n",
       "      <td>1</td>\n",
       "      <td>2</td>\n",
       "      <td>1</td>\n",
       "      <td>6</td>\n",
       "    </tr>\n",
       "    <tr>\n",
       "      <th>2012-01-01 03:00</th>\n",
       "      <td>6792.503352</td>\n",
       "      <td>19.025</td>\n",
       "      <td>1</td>\n",
       "      <td>3</td>\n",
       "      <td>1</td>\n",
       "      <td>6</td>\n",
       "    </tr>\n",
       "    <tr>\n",
       "      <th>2012-01-01 04:00</th>\n",
       "      <td>6635.984460</td>\n",
       "      <td>18.725</td>\n",
       "      <td>1</td>\n",
       "      <td>4</td>\n",
       "      <td>1</td>\n",
       "      <td>6</td>\n",
       "    </tr>\n",
       "    <tr>\n",
       "      <th>2012-01-01 05:00</th>\n",
       "      <td>6548.104464</td>\n",
       "      <td>18.675</td>\n",
       "      <td>1</td>\n",
       "      <td>5</td>\n",
       "      <td>1</td>\n",
       "      <td>6</td>\n",
       "    </tr>\n",
       "  </tbody>\n",
       "</table>\n",
       "</div>"
      ],
      "text/plain": [
       "                       demand  temperature  is_holiday  hour_of_day  \\\n",
       "date_time                                                             \n",
       "2012-01-01 01:00  7901.826990       20.325           1            1   \n",
       "2012-01-01 02:00  7255.721350       19.850           1            2   \n",
       "2012-01-01 03:00  6792.503352       19.025           1            3   \n",
       "2012-01-01 04:00  6635.984460       18.725           1            4   \n",
       "2012-01-01 05:00  6548.104464       18.675           1            5   \n",
       "\n",
       "                  month_of_year  day_of_week  \n",
       "date_time                                     \n",
       "2012-01-01 01:00              1            6  \n",
       "2012-01-01 02:00              1            6  \n",
       "2012-01-01 03:00              1            6  \n",
       "2012-01-01 04:00              1            6  \n",
       "2012-01-01 05:00              1            6  "
      ]
     },
     "execution_count": 54,
     "metadata": {},
     "output_type": "execute_result"
    }
   ],
   "source": [
    "date_time_trasformer = DateTimeFeatures(manual_selection=[\n",
    "    \"hour_of_day\",\n",
    "    \"month_of_year\",\n",
    "    \"day_of_week\",\n",
    "]\n",
    "                                       )\n",
    "date_time_trasformer.fit_transform(df.head())"
   ]
  },
  {
   "cell_type": "markdown",
   "id": "65feff6c-bee5-40d0-ba9c-9707d28c1782",
   "metadata": {},
   "source": [
    "## Seasonality features"
   ]
  },
  {
   "cell_type": "markdown",
   "id": "b46c4840-fa7a-4857-aaf8-53297ef5dd2f",
   "metadata": {},
   "source": [
    "Let's create transformers that will build features from the target variable. This will always be in a separate pipeline because for recursive forecasting we need to re-compute these features on each forecast step."
   ]
  },
  {
   "cell_type": "code",
   "execution_count": 134,
   "id": "b7390891-8df1-46a3-b3fd-0a584d79dcfc",
   "metadata": {},
   "outputs": [
    {
     "data": {
      "text/html": [
       "<div>\n",
       "<style scoped>\n",
       "    .dataframe tbody tr th:only-of-type {\n",
       "        vertical-align: middle;\n",
       "    }\n",
       "\n",
       "    .dataframe tbody tr th {\n",
       "        vertical-align: top;\n",
       "    }\n",
       "\n",
       "    .dataframe thead th {\n",
       "        text-align: right;\n",
       "    }\n",
       "</style>\n",
       "<table border=\"1\" class=\"dataframe\">\n",
       "  <thead>\n",
       "    <tr style=\"text-align: right;\">\n",
       "      <th></th>\n",
       "      <th>y_lag_1</th>\n",
       "      <th>y_mean_1_12</th>\n",
       "    </tr>\n",
       "    <tr>\n",
       "      <th>ds</th>\n",
       "      <th></th>\n",
       "      <th></th>\n",
       "    </tr>\n",
       "  </thead>\n",
       "  <tbody>\n",
       "    <tr>\n",
       "      <th>1949-01</th>\n",
       "      <td>112.0</td>\n",
       "      <td>126.166667</td>\n",
       "    </tr>\n",
       "    <tr>\n",
       "      <th>1949-02</th>\n",
       "      <td>112.0</td>\n",
       "      <td>126.166667</td>\n",
       "    </tr>\n",
       "    <tr>\n",
       "      <th>1949-03</th>\n",
       "      <td>118.0</td>\n",
       "      <td>126.166667</td>\n",
       "    </tr>\n",
       "    <tr>\n",
       "      <th>1949-04</th>\n",
       "      <td>132.0</td>\n",
       "      <td>126.166667</td>\n",
       "    </tr>\n",
       "    <tr>\n",
       "      <th>1949-05</th>\n",
       "      <td>129.0</td>\n",
       "      <td>126.166667</td>\n",
       "    </tr>\n",
       "    <tr>\n",
       "      <th>...</th>\n",
       "      <td>...</td>\n",
       "      <td>...</td>\n",
       "    </tr>\n",
       "    <tr>\n",
       "      <th>1960-08</th>\n",
       "      <td>622.0</td>\n",
       "      <td>459.416667</td>\n",
       "    </tr>\n",
       "    <tr>\n",
       "      <th>1960-09</th>\n",
       "      <td>606.0</td>\n",
       "      <td>463.333333</td>\n",
       "    </tr>\n",
       "    <tr>\n",
       "      <th>1960-10</th>\n",
       "      <td>508.0</td>\n",
       "      <td>467.083333</td>\n",
       "    </tr>\n",
       "    <tr>\n",
       "      <th>1960-11</th>\n",
       "      <td>461.0</td>\n",
       "      <td>471.583333</td>\n",
       "    </tr>\n",
       "    <tr>\n",
       "      <th>1960-12</th>\n",
       "      <td>390.0</td>\n",
       "      <td>473.916667</td>\n",
       "    </tr>\n",
       "  </tbody>\n",
       "</table>\n",
       "<p>144 rows × 2 columns</p>\n",
       "</div>"
      ],
      "text/plain": [
       "         y_lag_1  y_mean_1_12\n",
       "ds                           \n",
       "1949-01    112.0   126.166667\n",
       "1949-02    112.0   126.166667\n",
       "1949-03    118.0   126.166667\n",
       "1949-04    132.0   126.166667\n",
       "1949-05    129.0   126.166667\n",
       "...          ...          ...\n",
       "1960-08    622.0   459.416667\n",
       "1960-09    606.0   463.333333\n",
       "1960-10    508.0   467.083333\n",
       "1960-11    461.0   471.583333\n",
       "1960-12    390.0   473.916667\n",
       "\n",
       "[144 rows x 2 columns]"
      ]
     },
     "execution_count": 134,
     "metadata": {},
     "output_type": "execute_result"
    }
   ],
   "source": []
  },
  {
   "cell_type": "markdown",
   "id": "48e65cf6-8f59-4e5a-a4f5-3380e9196189",
   "metadata": {},
   "source": [
    "# Build pipelines"
   ]
  },
  {
   "cell_type": "markdown",
   "id": "6b85d4e8-18a2-4941-a370-78b1134fa807",
   "metadata": {},
   "source": [
    "## Future known features"
   ]
  },
  {
   "cell_type": "code",
   "execution_count": 61,
   "id": "a9b5176c-cbdf-4592-ad0e-fb1bbf1a4028",
   "metadata": {},
   "outputs": [
    {
     "data": {
      "text/plain": [
       "date_time\n",
       "2012-01-01 01:00        0\n",
       "2012-01-01 02:00        1\n",
       "2012-01-01 03:00        2\n",
       "2012-01-01 04:00        3\n",
       "2012-01-01 05:00        4\n",
       "                    ...  \n",
       "2015-02-28 19:00    27714\n",
       "2015-02-28 20:00    27715\n",
       "2015-02-28 21:00    27716\n",
       "2015-02-28 22:00    27717\n",
       "2015-02-28 23:00    27718\n",
       "Freq: H, Length: 27719, dtype: int64"
      ]
     },
     "execution_count": 61,
     "metadata": {},
     "output_type": "execute_result"
    }
   ],
   "source": [
    "transformer = [date_time_trasformer + time_since_transformer\n",
    "transformer.fit_transform(df[\"demand\"])"
   ]
  },
  {
   "cell_type": "markdown",
   "id": "1a0a1cd3-1361-4932-8dea-2bfd6619986d",
   "metadata": {},
   "source": [
    "## Features built from the target"
   ]
  },
  {
   "cell_type": "code",
   "execution_count": 62,
   "id": "5b7f5094-d764-4ef1-9277-0a9124a97e50",
   "metadata": {},
   "outputs": [
    {
     "data": {
      "text/html": [
       "<style>#sk-container-id-1 {color: black;background-color: white;}#sk-container-id-1 pre{padding: 0;}#sk-container-id-1 div.sk-toggleable {background-color: white;}#sk-container-id-1 label.sk-toggleable__label {cursor: pointer;display: block;width: 100%;margin-bottom: 0;padding: 0.3em;box-sizing: border-box;text-align: center;}#sk-container-id-1 label.sk-toggleable__label-arrow:before {content: \"▸\";float: left;margin-right: 0.25em;color: #696969;}#sk-container-id-1 label.sk-toggleable__label-arrow:hover:before {color: black;}#sk-container-id-1 div.sk-estimator:hover label.sk-toggleable__label-arrow:before {color: black;}#sk-container-id-1 div.sk-toggleable__content {max-height: 0;max-width: 0;overflow: hidden;text-align: left;background-color: #f0f8ff;}#sk-container-id-1 div.sk-toggleable__content pre {margin: 0.2em;color: black;border-radius: 0.25em;background-color: #f0f8ff;}#sk-container-id-1 input.sk-toggleable__control:checked~div.sk-toggleable__content {max-height: 200px;max-width: 100%;overflow: auto;}#sk-container-id-1 input.sk-toggleable__control:checked~label.sk-toggleable__label-arrow:before {content: \"▾\";}#sk-container-id-1 div.sk-estimator input.sk-toggleable__control:checked~label.sk-toggleable__label {background-color: #d4ebff;}#sk-container-id-1 div.sk-label input.sk-toggleable__control:checked~label.sk-toggleable__label {background-color: #d4ebff;}#sk-container-id-1 input.sk-hidden--visually {border: 0;clip: rect(1px 1px 1px 1px);clip: rect(1px, 1px, 1px, 1px);height: 1px;margin: -1px;overflow: hidden;padding: 0;position: absolute;width: 1px;}#sk-container-id-1 div.sk-estimator {font-family: monospace;background-color: #f0f8ff;border: 1px dotted black;border-radius: 0.25em;box-sizing: border-box;margin-bottom: 0.5em;}#sk-container-id-1 div.sk-estimator:hover {background-color: #d4ebff;}#sk-container-id-1 div.sk-parallel-item::after {content: \"\";width: 100%;border-bottom: 1px solid gray;flex-grow: 1;}#sk-container-id-1 div.sk-label:hover label.sk-toggleable__label {background-color: #d4ebff;}#sk-container-id-1 div.sk-serial::before {content: \"\";position: absolute;border-left: 1px solid gray;box-sizing: border-box;top: 0;bottom: 0;left: 50%;z-index: 0;}#sk-container-id-1 div.sk-serial {display: flex;flex-direction: column;align-items: center;background-color: white;padding-right: 0.2em;padding-left: 0.2em;position: relative;}#sk-container-id-1 div.sk-item {position: relative;z-index: 1;}#sk-container-id-1 div.sk-parallel {display: flex;align-items: stretch;justify-content: center;background-color: white;position: relative;}#sk-container-id-1 div.sk-item::before, #sk-container-id-1 div.sk-parallel-item::before {content: \"\";position: absolute;border-left: 1px solid gray;box-sizing: border-box;top: 0;bottom: 0;left: 50%;z-index: -1;}#sk-container-id-1 div.sk-parallel-item {display: flex;flex-direction: column;z-index: 1;position: relative;background-color: white;}#sk-container-id-1 div.sk-parallel-item:first-child::after {align-self: flex-end;width: 50%;}#sk-container-id-1 div.sk-parallel-item:last-child::after {align-self: flex-start;width: 50%;}#sk-container-id-1 div.sk-parallel-item:only-child::after {width: 0;}#sk-container-id-1 div.sk-dashed-wrapped {border: 1px dashed gray;margin: 0 0.4em 0.5em 0.4em;box-sizing: border-box;padding-bottom: 0.4em;background-color: white;}#sk-container-id-1 div.sk-label label {font-family: monospace;font-weight: bold;display: inline-block;line-height: 1.2em;}#sk-container-id-1 div.sk-label-container {text-align: center;}#sk-container-id-1 div.sk-container {/* jupyter's `normalize.less` sets `[hidden] { display: none; }` but bootstrap.min.css set `[hidden] { display: none !important; }` so we also need the `!important` here to be able to override the default hidden behavior on the sphinx rendered scikit-learn.org. See: https://github.com/scikit-learn/scikit-learn/issues/21755 */display: inline-block !important;position: relative;}#sk-container-id-1 div.sk-text-repr-fallback {display: none;}</style><div id=\"sk-container-id-1\" class=\"sk-top-container\"><div class=\"sk-text-repr-fallback\"><pre>WindowSummarizer(lag_feature={&#x27;lag&#x27;: [1, 24, 168, 8760],\n",
       "                              &#x27;mean&#x27;: [[1, 24], [1, 168], [1, 744]]},\n",
       "                 target_cols=[&#x27;demand&#x27;], truncate=&#x27;bfill&#x27;)</pre><b>In a Jupyter environment, please rerun this cell to show the HTML representation or trust the notebook. <br />On GitHub, the HTML representation is unable to render, please try loading this page with nbviewer.org.</b></div><div class=\"sk-container\" hidden><div class=\"sk-item\"><div class=\"sk-estimator sk-toggleable\"><input class=\"sk-toggleable__control sk-hidden--visually\" id=\"sk-estimator-id-1\" type=\"checkbox\" checked><label for=\"sk-estimator-id-1\" class=\"sk-toggleable__label sk-toggleable__label-arrow\">WindowSummarizer</label><div class=\"sk-toggleable__content\"><pre>WindowSummarizer(lag_feature={&#x27;lag&#x27;: [1, 24, 168, 8760],\n",
       "                              &#x27;mean&#x27;: [[1, 24], [1, 168], [1, 744]]},\n",
       "                 target_cols=[&#x27;demand&#x27;], truncate=&#x27;bfill&#x27;)</pre></div></div></div></div></div>"
      ],
      "text/plain": [
       "WindowSummarizer(lag_feature={'lag': [1, 24, 168, 8760],\n",
       "                              'mean': [[1, 24], [1, 168], [1, 744]]},\n",
       "                 target_cols=['demand'], truncate='bfill')"
      ]
     },
     "execution_count": 62,
     "metadata": {},
     "output_type": "execute_result"
    }
   ],
   "source": [
    "lag_window_transformer"
   ]
  },
  {
   "cell_type": "markdown",
   "id": "d9445dbf-0c67-4e52-9df7-ffc5ff178ef6",
   "metadata": {},
   "source": [
    "Let's build a recursive forecast."
   ]
  },
  {
   "cell_type": "code",
   "execution_count": 135,
   "id": "e98a5b98-c076-4a96-9ad2-4770226b3ff0",
   "metadata": {},
   "outputs": [],
   "source": [
    "# --- CONFIG --- #\n",
    "# Define time of first forecast, this determines our train / test split                                                    \n",
    "forecast_start_period = pd.Period(\"1958-01\", freq=\"M\")\n",
    "num_of_forecast_steps = 36 \n",
    "target = [\"y\"]\n",
    "\n",
    "model = LinearRegression()\n",
    "\n",
    "fit_once = True # if True fit model once.\n",
    "                # if False fit model on each iteration.\n",
    "\n",
    "# --- CREATE DYNAMIC TRAINING DATAFRAME  --- #\n",
    "# `df_train` is \"dynamic\" because we will dynamically append \n",
    "# the features built from the target to this dataframe. \n",
    "# It's \"training\" because we use this dataframe \n",
    "# to create the training set passed to the model.\n",
    "forecast_periods = pd.period_range(forecast_start_period, \n",
    "                                   periods=num_of_forecast_steps,\n",
    "                                   freq=\"M\")\n",
    "\n",
    "# Ensure we only have training data up to the start\n",
    "# of the forecast.\n",
    "df_train = df.loc[:forecast_start_period].copy()\n",
    "\n",
    "# Extend index to include the forecasting horizon.\n",
    "# The target variable will be NaN in the forecasting horizon\n",
    "# at this stage. As we iteratively make forecasts we will fill\n",
    "# the missing values with forecasts.\n",
    "df_train = pd.concat([\n",
    "                      df_train,\n",
    "                      pd.DataFrame(index=forecast_periods)\n",
    "                     ], \n",
    "                     axis=1)\n",
    "\n",
    "# --- FEATURE ENGINEERING FOR FUTURE KNOWN FEATURES --- #\n",
    "# Here, we create any features where we already know \n",
    "# the feature value in the forecast horizon (i.e., the future).\n",
    "# Hence, we can compute them just once and outside of the\n",
    "# recursive forecasting loop that will follow.\n",
    "\n",
    "# Create features from date and time.\n",
    "X_time_features = time_since_transformer.fit_transform(df_train)\n",
    "\n",
    "\n",
    "# --- RECURSIVE FORECASTING LOOP --- #\n",
    "_model_is_not_fitted = True\n",
    "for forecast_period in forecast_periods:    \n",
    "    # --- FEATURE ENGINEERING FROM TARGET --- #\n",
    "    # Create lag & window features.\n",
    "    X_target_features = lag_window_transformer.fit_transform(df_train)\n",
    "\n",
    "    # --- CREATE TRAIN AND TEST (PREDICT) SET --- #\n",
    "    # Join the features onto the target, this  makes it easy to\n",
    "    # inspect the features and target manually.\n",
    "    df_y_and_X = pd.concat([\n",
    "                            df_train[target], \n",
    "                            X_time_features, \n",
    "                            X_target_features,\n",
    "                           ], axis=1)\n",
    "    \n",
    "    \n",
    "    # Get feature names.\n",
    "    features = df_y_and_X.columns.drop(labels=target)\n",
    "    \n",
    "    # Filter on forecast period to get training set.\n",
    "    train_mask = df_y_and_X.index < forecast_period\n",
    "    X_train = df_y_and_X.loc[train_mask, features]\n",
    "    y_train = df_y_and_X.loc[train_mask, target]\n",
    "    \n",
    "    # Filter on forecast date to get test set (predict set). \n",
    "    # We're forecasting one step ahead at a time,\n",
    "    # so there is only one row in X_test!\n",
    "    X_test = df_y_and_X.loc[[forecast_period], features]\n",
    "\n",
    "    # --- MAKE FORECAST --- #\n",
    "    # Train a model. \n",
    "    #\n",
    "    # If `fit_once` is True then the model\n",
    "    # is trained only once, on the first\n",
    "    # iteration, and then never again.\n",
    "    #\n",
    "    # If `fit_once` is False then the model \n",
    "    # is trained on the dyanmically expanding\n",
    "    # training dataframe on each iteration.\n",
    "    if fit_once and _model_is_not_fitted:\n",
    "        model.fit(X_train, y_train)\n",
    "        _model_is_not_fitted = False\n",
    "    elif fit_once is False:\n",
    "        model.fit(X_train, y_train)\n",
    "    \n",
    "    # Predict one step ahead. \n",
    "    y_pred = model.predict(X_test)\n",
    "    \n",
    "    # Append forecast to the target variable columnn in our\n",
    "    # dynamic training dataframe `df_train`. This `df_train`\n",
    "    # is ready for the next iteration where we will re-compute\n",
    "    # features derived from the target.\n",
    "    df_train.loc[forecast_period, target] = y_pred[0]"
   ]
  },
  {
   "cell_type": "code",
   "execution_count": 146,
   "id": "558f7d47-ce83-4f6c-b629-3c03fffd2125",
   "metadata": {},
   "outputs": [],
   "source": [
    "# --- CREATE IN-SAMPLE PREDICTIONS--- #\n",
    "# Create predictions on the training set \n",
    "# using the one step ahead forecast model.\n",
    "# Useful to plot when debugging models.\n",
    "train_mask = df_y_and_X.index < forecast_start_period\n",
    "X_train = df_y_and_X.loc[train_mask, features]\n",
    "y_forecast_train = model.predict(X_train)\n",
    "y_forecast_train = pd.DataFrame({\"y\":y_forecast_train.flatten()}, index=X_train.index)"
   ]
  },
  {
   "cell_type": "code",
   "execution_count": 147,
   "id": "ceb447f6-bc74-43ba-99a7-9a5278b53bd1",
   "metadata": {},
   "outputs": [],
   "source": [
    "# --- CONVENIENT POST PROCESSING--- #\n",
    "\n",
    "# Fill in last forecast in the dataframe that contains\n",
    "# target and features.\n",
    "df_y_and_X.loc[forecast_period, target] = y_pred[0]\n",
    "\n",
    "# Retreive forecast and actuals\n",
    "y_forecast = df_train.loc[forecast_start_period:, target]\n",
    "y_train = df.loc[:forecast_start_period, target]\n",
    "y_test = df.loc[forecast_start_period:, target]"
   ]
  },
  {
   "cell_type": "code",
   "execution_count": 148,
   "id": "4ce0046e-d7a6-4911-92a6-c4f807d67634",
   "metadata": {},
   "outputs": [
    {
     "data": {
      "text/plain": [
       "Text(0.5, 1.0, 'Air passenger numbers')"
      ]
     },
     "execution_count": 148,
     "metadata": {},
     "output_type": "execute_result"
    },
    {
     "data": {
      "image/png": "[encoded data removed]",
      "text/plain": [
       "<Figure size 720x360 with 1 Axes>"
      ]
     },
     "metadata": {
      "needs_background": "light"
     },
     "output_type": "display_data"
    }
   ],
   "source": [
    "# --- PLOTTING --- #\n",
    "\n",
    "# Plot the forecast.\n",
    "fig, ax = plt.subplots(figsize=[10, 5])\n",
    "\n",
    "# Plot training set.\n",
    "y_train.loc[:forecast_start_period,[\"y\"]].plot(ax=ax, marker='.')\n",
    "# Plot actuals in forecasting horizon.\n",
    "y_test.plot(ax=ax, marker='.', alpha=0.6)\n",
    "# Plot forecast.\n",
    "y_forecast.plot(ax=ax)\n",
    "# Plot 1 step forecasts in training data.\n",
    "y_forecast_train.plot(ax=ax)\n",
    "\n",
    "ax.legend([\"train\", \"test\", \"forecast\", \"in-sample forecast\"])\n",
    "ax.set_xlabel(\"Time\")\n",
    "ax.set_ylabel(\"Air passengers (1000s)\")\n",
    "ax.set_title(\"Air passenger numbers\")"
   ]
  },
  {
   "cell_type": "markdown",
   "id": "b329343e-5055-4a8a-903d-4ec0252239a4",
   "metadata": {},
   "source": [
    "Let's compute the RMSE of this forecast."
   ]
  },
  {
   "cell_type": "code",
   "execution_count": 149,
   "id": "ca4d4411-a247-47cd-882c-bd67833b69f0",
   "metadata": {},
   "outputs": [
    {
     "data": {
      "text/plain": [
       "69.35369662377965"
      ]
     },
     "execution_count": 149,
     "metadata": {},
     "output_type": "execute_result"
    }
   ],
   "source": [
    "# Compute error metrics.\n",
    "from sklearn.metrics import mean_squared_error\n",
    "mean_squared_error(y_forecast, y_test.loc[y_forecast.index], squared=False)"
   ]
  },
  {
   "cell_type": "markdown",
   "id": "b1326694-1d29-403a-92b8-c0063c9352bc",
   "metadata": {},
   "source": [
    "What about LASSO and Ridge which need feature scaling?"
   ]
  },
  {
   "cell_type": "markdown",
   "id": "908481a5-faa2-4035-9d30-b467c0284252",
   "metadata": {},
   "source": [
    "We can conveniently attach the feature scaling step to the model using a pipeline."
   ]
  },
  {
   "cell_type": "code",
   "execution_count": 132,
   "id": "6118de8b-5bcf-49c2-b38d-c52f073a8367",
   "metadata": {},
   "outputs": [],
   "source": [
    "from sklearn.preprocessing import MinMaxScaler\n",
    "from sklearn.pipeline import Pipeline\n",
    "\n",
    "model = Pipeline(steps=[\n",
    "                        ('scaler', MinMaxScaler()), \n",
    "                        ('model', Ridge()),\n",
    "])"
   ]
  },
  {
   "cell_type": "markdown",
   "id": "84ccc2d0-c55c-4da9-adf9-bf3f3d06e892",
   "metadata": {},
   "source": [
    "This model with feature scaling can now be inserted at the top of the recursive forecasting code block."
   ]
  },
  {
   "cell_type": "markdown",
   "id": "705f9886-3682-40b9-a828-fe0dedafc232",
   "metadata": {},
   "source": [
    "We can now implement the time feature to capture trend alongside other features in a recursive forecasting workflow. We can see that the time feature can help capture the trend in the data when using linear models."
   ]
  },
  {
   "cell_type": "markdown",
   "id": "2d649f5f-cfbb-43b8-83d1-b168514acb9b",
   "metadata": {},
   "source": [
    "Feel free to change the dates, try different models, and different features!"
   ]
  }
 ],
 "metadata": {
  "kernelspec": {
   "display_name": "Python 3 (ipykernel)",
   "language": "python",
   "name": "python3"
  },
  "language_info": {
   "codemirror_mode": {
    "name": "ipython",
    "version": 3
   },
   "file_extension": ".py",
   "mimetype": "text/x-python",
   "name": "python",
   "nbconvert_exporter": "python",
   "pygments_lexer": "ipython3",
   "version": "3.8.7"
  }
 },
 "nbformat": 4,
 "nbformat_minor": 5
}
